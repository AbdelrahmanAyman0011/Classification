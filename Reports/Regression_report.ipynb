{
 "cells": [
  {
   "cell_type": "code",
   "execution_count": 68,
   "id": "1ca4540b",
   "metadata": {},
   "outputs": [],
   "source": [
    "import pandas as pd\n",
    "from sklearn.model_selection import train_test_split\n",
    "from sklearn.linear_model import LinearRegression, Lasso, Ridge\n",
    "from sklearn.metrics import mean_squared_error\n",
    "from sklearn.metrics import mean_absolute_error"
   ]
  },
  {
   "cell_type": "markdown",
   "id": "be14c2b2",
   "metadata": {},
   "source": [
    "<span style=\"font-family: Calibri, sans-serif; font-size: 35px;\"># Reading data and storing it in a dataframe </span>"
   ]
  },
  {
   "cell_type": "code",
   "execution_count": 69,
   "id": "59022aec",
   "metadata": {},
   "outputs": [
    {
     "data": {
      "text/html": [
       "<div>\n",
       "<style scoped>\n",
       "    .dataframe tbody tr th:only-of-type {\n",
       "        vertical-align: middle;\n",
       "    }\n",
       "\n",
       "    .dataframe tbody tr th {\n",
       "        vertical-align: top;\n",
       "    }\n",
       "\n",
       "    .dataframe thead th {\n",
       "        text-align: right;\n",
       "    }\n",
       "</style>\n",
       "<table border=\"1\" class=\"dataframe\">\n",
       "  <thead>\n",
       "    <tr style=\"text-align: right;\">\n",
       "      <th></th>\n",
       "      <th>Median_House_Value</th>\n",
       "      <th>Median_Income</th>\n",
       "      <th>Median_Age</th>\n",
       "      <th>Tot_Rooms</th>\n",
       "      <th>Tot_Bedrooms</th>\n",
       "      <th>Population</th>\n",
       "      <th>Households</th>\n",
       "      <th>Latitude</th>\n",
       "      <th>Longitude</th>\n",
       "      <th>Distance_to_coast</th>\n",
       "      <th>Distance_to_LA</th>\n",
       "      <th>Distance_to_SanDiego</th>\n",
       "      <th>Distance_to_SanJose</th>\n",
       "      <th>Distance_to_SanFrancisco</th>\n",
       "    </tr>\n",
       "  </thead>\n",
       "  <tbody>\n",
       "    <tr>\n",
       "      <th>0</th>\n",
       "      <td>452600.0</td>\n",
       "      <td>8.3252</td>\n",
       "      <td>41</td>\n",
       "      <td>880</td>\n",
       "      <td>129</td>\n",
       "      <td>322</td>\n",
       "      <td>126</td>\n",
       "      <td>37.88</td>\n",
       "      <td>-122.23</td>\n",
       "      <td>9263.040773</td>\n",
       "      <td>556529.158342</td>\n",
       "      <td>735501.806984</td>\n",
       "      <td>67432.517001</td>\n",
       "      <td>21250.213767</td>\n",
       "    </tr>\n",
       "    <tr>\n",
       "      <th>1</th>\n",
       "      <td>358500.0</td>\n",
       "      <td>8.3014</td>\n",
       "      <td>21</td>\n",
       "      <td>7099</td>\n",
       "      <td>1106</td>\n",
       "      <td>2401</td>\n",
       "      <td>1138</td>\n",
       "      <td>37.86</td>\n",
       "      <td>-122.22</td>\n",
       "      <td>10225.733072</td>\n",
       "      <td>554279.850069</td>\n",
       "      <td>733236.884360</td>\n",
       "      <td>65049.908574</td>\n",
       "      <td>20880.600400</td>\n",
       "    </tr>\n",
       "    <tr>\n",
       "      <th>2</th>\n",
       "      <td>352100.0</td>\n",
       "      <td>7.2574</td>\n",
       "      <td>52</td>\n",
       "      <td>1467</td>\n",
       "      <td>190</td>\n",
       "      <td>496</td>\n",
       "      <td>177</td>\n",
       "      <td>37.85</td>\n",
       "      <td>-122.24</td>\n",
       "      <td>8259.085109</td>\n",
       "      <td>554610.717069</td>\n",
       "      <td>733525.682937</td>\n",
       "      <td>64867.289833</td>\n",
       "      <td>18811.487450</td>\n",
       "    </tr>\n",
       "    <tr>\n",
       "      <th>3</th>\n",
       "      <td>341300.0</td>\n",
       "      <td>5.6431</td>\n",
       "      <td>52</td>\n",
       "      <td>1274</td>\n",
       "      <td>235</td>\n",
       "      <td>558</td>\n",
       "      <td>219</td>\n",
       "      <td>37.85</td>\n",
       "      <td>-122.25</td>\n",
       "      <td>7768.086571</td>\n",
       "      <td>555194.266086</td>\n",
       "      <td>734095.290744</td>\n",
       "      <td>65287.138412</td>\n",
       "      <td>18031.047568</td>\n",
       "    </tr>\n",
       "    <tr>\n",
       "      <th>4</th>\n",
       "      <td>342200.0</td>\n",
       "      <td>3.8462</td>\n",
       "      <td>52</td>\n",
       "      <td>1627</td>\n",
       "      <td>280</td>\n",
       "      <td>565</td>\n",
       "      <td>259</td>\n",
       "      <td>37.85</td>\n",
       "      <td>-122.25</td>\n",
       "      <td>7768.086571</td>\n",
       "      <td>555194.266086</td>\n",
       "      <td>734095.290744</td>\n",
       "      <td>65287.138412</td>\n",
       "      <td>18031.047568</td>\n",
       "    </tr>\n",
       "    <tr>\n",
       "      <th>...</th>\n",
       "      <td>...</td>\n",
       "      <td>...</td>\n",
       "      <td>...</td>\n",
       "      <td>...</td>\n",
       "      <td>...</td>\n",
       "      <td>...</td>\n",
       "      <td>...</td>\n",
       "      <td>...</td>\n",
       "      <td>...</td>\n",
       "      <td>...</td>\n",
       "      <td>...</td>\n",
       "      <td>...</td>\n",
       "      <td>...</td>\n",
       "      <td>...</td>\n",
       "    </tr>\n",
       "    <tr>\n",
       "      <th>20635</th>\n",
       "      <td>78100.0</td>\n",
       "      <td>1.5603</td>\n",
       "      <td>25</td>\n",
       "      <td>1665</td>\n",
       "      <td>374</td>\n",
       "      <td>845</td>\n",
       "      <td>330</td>\n",
       "      <td>39.48</td>\n",
       "      <td>-121.09</td>\n",
       "      <td>162031.481121</td>\n",
       "      <td>654530.186299</td>\n",
       "      <td>830631.543047</td>\n",
       "      <td>248510.058162</td>\n",
       "      <td>222619.890417</td>\n",
       "    </tr>\n",
       "    <tr>\n",
       "      <th>20636</th>\n",
       "      <td>77100.0</td>\n",
       "      <td>2.5568</td>\n",
       "      <td>18</td>\n",
       "      <td>697</td>\n",
       "      <td>150</td>\n",
       "      <td>356</td>\n",
       "      <td>114</td>\n",
       "      <td>39.49</td>\n",
       "      <td>-121.21</td>\n",
       "      <td>160445.433537</td>\n",
       "      <td>659747.068444</td>\n",
       "      <td>836245.915229</td>\n",
       "      <td>246849.888948</td>\n",
       "      <td>218314.424634</td>\n",
       "    </tr>\n",
       "    <tr>\n",
       "      <th>20637</th>\n",
       "      <td>92300.0</td>\n",
       "      <td>1.7000</td>\n",
       "      <td>17</td>\n",
       "      <td>2254</td>\n",
       "      <td>485</td>\n",
       "      <td>1007</td>\n",
       "      <td>433</td>\n",
       "      <td>39.43</td>\n",
       "      <td>-121.22</td>\n",
       "      <td>153754.341182</td>\n",
       "      <td>654042.214020</td>\n",
       "      <td>830699.573163</td>\n",
       "      <td>240172.220489</td>\n",
       "      <td>212097.936232</td>\n",
       "    </tr>\n",
       "    <tr>\n",
       "      <th>20638</th>\n",
       "      <td>84700.0</td>\n",
       "      <td>1.8672</td>\n",
       "      <td>18</td>\n",
       "      <td>1860</td>\n",
       "      <td>409</td>\n",
       "      <td>741</td>\n",
       "      <td>349</td>\n",
       "      <td>39.43</td>\n",
       "      <td>-121.32</td>\n",
       "      <td>152005.022239</td>\n",
       "      <td>657698.007703</td>\n",
       "      <td>834672.461887</td>\n",
       "      <td>238193.865909</td>\n",
       "      <td>207923.199166</td>\n",
       "    </tr>\n",
       "    <tr>\n",
       "      <th>20639</th>\n",
       "      <td>89400.0</td>\n",
       "      <td>2.3886</td>\n",
       "      <td>16</td>\n",
       "      <td>2785</td>\n",
       "      <td>616</td>\n",
       "      <td>1387</td>\n",
       "      <td>530</td>\n",
       "      <td>39.37</td>\n",
       "      <td>-121.24</td>\n",
       "      <td>146866.196892</td>\n",
       "      <td>648723.337126</td>\n",
       "      <td>825569.179028</td>\n",
       "      <td>233282.769063</td>\n",
       "      <td>205473.376575</td>\n",
       "    </tr>\n",
       "  </tbody>\n",
       "</table>\n",
       "<p>20640 rows × 14 columns</p>\n",
       "</div>"
      ],
      "text/plain": [
       "       Median_House_Value  Median_Income  Median_Age  Tot_Rooms  Tot_Bedrooms  \\\n",
       "0                452600.0         8.3252          41        880           129   \n",
       "1                358500.0         8.3014          21       7099          1106   \n",
       "2                352100.0         7.2574          52       1467           190   \n",
       "3                341300.0         5.6431          52       1274           235   \n",
       "4                342200.0         3.8462          52       1627           280   \n",
       "...                   ...            ...         ...        ...           ...   \n",
       "20635             78100.0         1.5603          25       1665           374   \n",
       "20636             77100.0         2.5568          18        697           150   \n",
       "20637             92300.0         1.7000          17       2254           485   \n",
       "20638             84700.0         1.8672          18       1860           409   \n",
       "20639             89400.0         2.3886          16       2785           616   \n",
       "\n",
       "       Population  Households  Latitude  Longitude  Distance_to_coast  \\\n",
       "0             322         126     37.88    -122.23        9263.040773   \n",
       "1            2401        1138     37.86    -122.22       10225.733072   \n",
       "2             496         177     37.85    -122.24        8259.085109   \n",
       "3             558         219     37.85    -122.25        7768.086571   \n",
       "4             565         259     37.85    -122.25        7768.086571   \n",
       "...           ...         ...       ...        ...                ...   \n",
       "20635         845         330     39.48    -121.09      162031.481121   \n",
       "20636         356         114     39.49    -121.21      160445.433537   \n",
       "20637        1007         433     39.43    -121.22      153754.341182   \n",
       "20638         741         349     39.43    -121.32      152005.022239   \n",
       "20639        1387         530     39.37    -121.24      146866.196892   \n",
       "\n",
       "       Distance_to_LA  Distance_to_SanDiego  Distance_to_SanJose  \\\n",
       "0       556529.158342         735501.806984         67432.517001   \n",
       "1       554279.850069         733236.884360         65049.908574   \n",
       "2       554610.717069         733525.682937         64867.289833   \n",
       "3       555194.266086         734095.290744         65287.138412   \n",
       "4       555194.266086         734095.290744         65287.138412   \n",
       "...               ...                   ...                  ...   \n",
       "20635   654530.186299         830631.543047        248510.058162   \n",
       "20636   659747.068444         836245.915229        246849.888948   \n",
       "20637   654042.214020         830699.573163        240172.220489   \n",
       "20638   657698.007703         834672.461887        238193.865909   \n",
       "20639   648723.337126         825569.179028        233282.769063   \n",
       "\n",
       "       Distance_to_SanFrancisco  \n",
       "0                  21250.213767  \n",
       "1                  20880.600400  \n",
       "2                  18811.487450  \n",
       "3                  18031.047568  \n",
       "4                  18031.047568  \n",
       "...                         ...  \n",
       "20635             222619.890417  \n",
       "20636             218314.424634  \n",
       "20637             212097.936232  \n",
       "20638             207923.199166  \n",
       "20639             205473.376575  \n",
       "\n",
       "[20640 rows x 14 columns]"
      ]
     },
     "execution_count": 69,
     "metadata": {},
     "output_type": "execute_result"
    }
   ],
   "source": [
    "file_path = \"C:\\\\Users\\\\MALAK\\\\Downloads\\\\California_Houses.csv\"\n",
    "data = pd.read_csv(file_path) \n",
    "data"
   ]
  },
  {
   "cell_type": "markdown",
   "id": "a451c00e",
   "metadata": {},
   "source": [
    "<span style=\"font-family: Calibri, sans-serif; font-size: 35px;\">#Spliting data 70% for training, 15% for testing and 15% for validation\n",
    "</span>"
   ]
  },
  {
   "cell_type": "code",
   "execution_count": 83,
   "id": "0d19415b",
   "metadata": {},
   "outputs": [
    {
     "name": "stdout",
     "output_type": "stream",
     "text": [
      "Training set: 14448\n",
      "Validation set: 3096\n",
      "Test set: 3096\n"
     ]
    }
   ],
   "source": [
    "training_set, remaining_data = train_test_split(data, test_size=0.3, random_state=42)\n",
    "validation_set, test_set = train_test_split(remaining_data, test_size=0.5, random_state=42)\n",
    "print(\"Training set:\",len(training_set))\n",
    "print(\"Validation set:\",len(validation_set))\n",
    "print(\"Test set:\",len(test_set))"
   ]
  },
  {
   "cell_type": "markdown",
   "id": "3873fbcc",
   "metadata": {},
   "source": [
    "<span style=\"font-family: Calibri, sans-serif; font-size: 35px;\"># Define features(x) and label(y) which is our target variable\n",
    "</span>"
   ]
  },
  {
   "cell_type": "code",
   "execution_count": 71,
   "id": "29ca7a06",
   "metadata": {},
   "outputs": [],
   "source": [
    "x_train = training_set.drop(columns=[\"Median_House_Value\"])\n",
    "y_train = training_set[\"Median_House_Value\"]\n",
    "\n",
    "x_validation = validation_set.drop(columns=[\"Median_House_Value\"])\n",
    "y_validation = validation_set[\"Median_House_Value\"]\n",
    "\n",
    "x_test = test_set.drop(columns=[\"Median_House_Value\"])\n",
    "y_test = test_set[\"Median_House_Value\"]"
   ]
  },
  {
   "cell_type": "markdown",
   "id": "cfea8fcc",
   "metadata": {},
   "source": [
    "<span style=\"font-family: Calibri, sans-serif; font-size: 35px;\"># Applying linear regression, creating an instance called linear_model then training data on this model\n",
    "</span>"
   ]
  },
  {
   "cell_type": "code",
   "execution_count": 84,
   "id": "49c4a9ff",
   "metadata": {},
   "outputs": [],
   "source": [
    "linear_model = LinearRegression()\n",
    "linear_model.fit(x_train, y_train)"
   ]
  },
  {
   "cell_type": "markdown",
   "id": "ac84fed9",
   "metadata": {},
   "source": [
    "<span style=\"font-family: Calibri, sans-serif; font-size: 35px;\"># Evaluate Linear Regression on validation set then calculating MSE and MAE for linear model\n",
    "</span>"
   ]
  },
  {
   "cell_type": "code",
   "execution_count": 73,
   "id": "af34be89",
   "metadata": {},
   "outputs": [
    {
     "name": "stdout",
     "output_type": "stream",
     "text": [
      "Linear regression validation MSE: 4907211997.374637\n",
      "Linear regression validation MAE: 50790.06027105393\n"
     ]
    }
   ],
   "source": [
    "linear_val_predictions = linear_model.predict(x_validation)\n",
    "linear_val_mse = mean_squared_error(y_validation, linear_val_predictions)\n",
    "print(\"Linear regression validation MSE:\", linear_val_mse)\n",
    "linear_val_mae = mean_absolute_error(y_validation, linear_val_predictions)\n",
    "print(\"Linear regression validation MAE:\", linear_val_mae)"
   ]
  },
  {
   "cell_type": "markdown",
   "id": "efda5dc7",
   "metadata": {},
   "source": [
    "<span style=\"font-family: Calibri, sans-serif; font-size: 35px;\"># Applying lasso regression, creating an instance called lasso_model then training data on this model, alpha's value here gives a moderate level of regularization\n",
    "</span>"
   ]
  },
  {
   "cell_type": "code",
   "execution_count": 85,
   "id": "c43a0323",
   "metadata": {},
   "outputs": [],
   "source": [
    "lasso_model = Lasso(alpha=0.1, max_iter=10000)\n",
    "lasso_model.fit(x_train, y_train)"
   ]
  },
  {
   "cell_type": "markdown",
   "id": "dcfd1a3c",
   "metadata": {},
   "source": [
    "<span style=\"font-family: Calibri, sans-serif; font-size: 35px;\"># Evaluate Lasso Regression on validation set then calculating MSE and MAE for lasso model\n",
    "</span>"
   ]
  },
  {
   "cell_type": "code",
   "execution_count": 75,
   "id": "9504ca44",
   "metadata": {},
   "outputs": [
    {
     "name": "stdout",
     "output_type": "stream",
     "text": [
      "Lasso regression validation MSE: 4907212766.117535\n",
      "Lasso regression validation MAE: 50790.08159127155\n"
     ]
    }
   ],
   "source": [
    "lasso_val_predictions = lasso_model.predict(x_validation)\n",
    "lasso_val_mse = mean_squared_error(y_validation, lasso_val_predictions)\n",
    "print(\"Lasso regression validation MSE:\", lasso_val_mse)\n",
    "lasso_val_mae = mean_absolute_error(y_validation, lasso_val_predictions)\n",
    "print(\"Lasso regression validation MAE:\", lasso_val_mae)"
   ]
  },
  {
   "cell_type": "markdown",
   "id": "08474819",
   "metadata": {},
   "source": [
    "<span style=\"font-family: Calibri, sans-serif; font-size: 35px;\"># Applying Ridge regression, creating an instance called Ridge_model then training data on this model\n",
    "</span>"
   ]
  },
  {
   "cell_type": "code",
   "execution_count": 86,
   "id": "b2228754",
   "metadata": {},
   "outputs": [],
   "source": [
    "ridge_model = Ridge(alpha=1.0)\n",
    "ridge_model.fit(x_train, y_train)"
   ]
  },
  {
   "cell_type": "markdown",
   "id": "be3960ca",
   "metadata": {},
   "source": [
    "<span style=\"font-family: Calibri, sans-serif; font-size: 35px;\"># Evaluate Ridge Regression on validation set then calculating MSE and MAE for ridge model\n",
    "</span>"
   ]
  },
  {
   "cell_type": "code",
   "execution_count": 77,
   "id": "63cdf593",
   "metadata": {},
   "outputs": [
    {
     "name": "stdout",
     "output_type": "stream",
     "text": [
      "Ridge regression validation MSE: 4907226928.247799\n",
      "Ridge regression validation MAE: 50790.60731450412\n"
     ]
    }
   ],
   "source": [
    "ridge_val_predictions = ridge_model.predict(x_validation)\n",
    "ridge_val_mse = mean_squared_error(y_validation, ridge_val_predictions)\n",
    "print(\"Ridge regression validation MSE:\", ridge_val_mse)\n",
    "ridge_val_predictions = ridge_model.predict(x_validation)\n",
    "ridge_val_mae = mean_absolute_error(y_validation, ridge_val_predictions)\n",
    "print(\"Ridge regression validation MAE:\", ridge_val_mae)"
   ]
  },
  {
   "cell_type": "markdown",
   "id": "1a74361e",
   "metadata": {},
   "source": [
    "<span style=\"font-family: Calibri, sans-serif; font-size: 35px;\"># Testing linear model performance by calculating MSE and MAE for Linear Regression on test set\n",
    "</span>"
   ]
  },
  {
   "cell_type": "code",
   "execution_count": 78,
   "id": "de18dc8b",
   "metadata": {},
   "outputs": [
    {
     "name": "stdout",
     "output_type": "stream",
     "text": [
      "Linear regression test MSE: 4400953150.614064\n",
      "Linear regression test MAE: 48782.03108086061\n"
     ]
    }
   ],
   "source": [
    "linear_test_predictions = linear_model.predict(x_test)\n",
    "linear_test_mse = mean_squared_error(y_test, linear_test_predictions)\n",
    "print(\"Linear regression test MSE:\", linear_test_mse)\n",
    "linear_test_mae = mean_absolute_error(y_test, linear_test_predictions)\n",
    "print(\"Linear regression test MAE:\", linear_test_mae)"
   ]
  },
  {
   "cell_type": "markdown",
   "id": "e04e05aa",
   "metadata": {},
   "source": [
    "<span style=\"font-family: Calibri, sans-serif; font-size: 35px;\"># Testing lasso model performance by calculating MSE and MAE for lasso Regression on test set\n",
    "</span>"
   ]
  },
  {
   "cell_type": "code",
   "execution_count": 79,
   "id": "3b6d25d2",
   "metadata": {},
   "outputs": [
    {
     "name": "stdout",
     "output_type": "stream",
     "text": [
      "Lasso regression test MSE: 4400953898.419449\n",
      "Lasso regression test MAE: 48782.04862279251\n"
     ]
    }
   ],
   "source": [
    "lasso_test_predictions = lasso_model.predict(x_test)\n",
    "lasso_test_mse = mean_squared_error(y_test, lasso_test_predictions)\n",
    "print(\"Lasso regression test MSE:\", lasso_test_mse)\n",
    "lasso_test_mae = mean_absolute_error(y_test, lasso_test_predictions)\n",
    "print(\"Lasso regression test MAE:\", lasso_test_mae)"
   ]
  },
  {
   "cell_type": "markdown",
   "id": "07329535",
   "metadata": {},
   "source": [
    "<span style=\"font-family: Calibri, sans-serif; font-size: 35px;\"># Testing ridge model performance by calculating MSE and MAE for ridge Regression on test set\n",
    "</span>"
   ]
  },
  {
   "cell_type": "code",
   "execution_count": 81,
   "id": "1a25b935",
   "metadata": {},
   "outputs": [
    {
     "name": "stdout",
     "output_type": "stream",
     "text": [
      "Ridge regression test MSE: 4400963939.986321\n",
      "Ridge regression test MAE: 48782.50871135069\n"
     ]
    }
   ],
   "source": [
    "ridge_test_predictions = ridge_model.predict(x_test)\n",
    "ridge_test_mse = mean_squared_error(y_test, ridge_test_predictions)\n",
    "print(\"Ridge regression test MSE:\", ridge_test_mse)\n",
    "ridge_test_mae = mean_absolute_error(y_test, ridge_test_predictions)\n",
    "print(\"Ridge regression test MAE:\", ridge_test_mae)"
   ]
  },
  {
   "cell_type": "markdown",
   "id": "60bc1872",
   "metadata": {},
   "source": [
    "<span style=\"font-family: Calibri, sans-serif; font-size: 35px;\"># Comparing between models according to their MSE and MAE on validation set (tuning hyperparameters) and test set (for unseen data) to find the best model based on performance then selecting the one with least error values.\n",
    "</span>"
   ]
  },
  {
   "cell_type": "code",
   "execution_count": 82,
   "id": "1bdaae9a",
   "metadata": {},
   "outputs": [
    {
     "name": "stdout",
     "output_type": "stream",
     "text": [
      "Best model based on validation set: Linear regression\n",
      "MSE: 4907211997.374637\n",
      "MAE: 50790.06027105393\n",
      "Best model based on test set: Linear regression\n",
      "MSE: 4400953150.614064\n",
      "MAE: 48782.03108086061\n"
     ]
    }
   ],
   "source": [
    "best_model_mse = min(linear_val_mse, min(lasso_val_mse, ridge_val_mse))\n",
    "best_model_mae = min(linear_val_mae, min(lasso_val_mae, ridge_val_mae))\n",
    "if best_model_mse == linear_val_mse:\n",
    "    print(\"Best model based on validation set: Linear regression\")\n",
    "    print(\"MSE:\", best_model_mse)\n",
    "    print(\"MAE:\", best_model_mae)\n",
    "elif best_model_mse == lasso_val_mse:\n",
    "    print(\"Best model based on validation set: Lasso regression\")\n",
    "    print(\"MSE:\", best_model_mse)\n",
    "    print(\"MAE:\", best_model_mae)\n",
    "else:\n",
    "    print(\"Best model based on validation set: Ridge regression\")\n",
    "    print(\"MSE:\", best_model_mse)\n",
    "    print(\"MAE:\", best_model_mae)\n",
    "if best_model_mse == linear_val_mse:\n",
    "    print(\"Best model based on test set: Linear regression\")\n",
    "    print(\"MSE:\", linear_test_mse)\n",
    "    print(\"MAE:\", linear_test_mae)\n",
    "elif best_model_mse == lasso_val_mse:\n",
    "    print(\"Best model based on test set: Lasso regression\")\n",
    "    print(\"MSE:\", lasso_test_mse)\n",
    "    print(\"MAE:\", lasso_test_mae)\n",
    "else:  # Ridge Regression\n",
    "    print(\"Best model based on test set: Ridge regression\")\n",
    "    print(\"MSE:\", ridge_test_mse)\n",
    "    print(\"MAE:\", ridge_test_mae)"
   ]
  },
  {
   "cell_type": "code",
   "execution_count": null,
   "id": "ea293b83",
   "metadata": {},
   "outputs": [],
   "source": []
  }
 ],
 "metadata": {
  "kernelspec": {
   "display_name": "Python 3 (ipykernel)",
   "language": "python",
   "name": "python3"
  },
  "language_info": {
   "codemirror_mode": {
    "name": "ipython",
    "version": 3
   },
   "file_extension": ".py",
   "mimetype": "text/x-python",
   "name": "python",
   "nbconvert_exporter": "python",
   "pygments_lexer": "ipython3",
   "version": "3.11.5"
  }
 },
 "nbformat": 4,
 "nbformat_minor": 5
}
